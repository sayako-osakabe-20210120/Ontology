{
 "cells": [
  {
   "cell_type": "code",
   "execution_count": null,
   "metadata": {},
   "outputs": [],
   "source": []
  },
  {
   "cell_type": "markdown",
   "metadata": {},
   "source": [
    "hp.obo"
   ]
  },
  {
   "cell_type": "code",
   "execution_count": 1,
   "metadata": {},
   "outputs": [
    {
     "name": "stderr",
     "output_type": "stream",
     "text": [
      "<ipython-input-1-45fb961bcd8d>:4: UnicodeWarning: unsound encoding, assuming ISO-8859-1 (73% confidence)\n",
      "  ont = pronto.Ontology('https://raw.githubusercontent.com/obophenotype/human-phenotype-ontology/master/hp.obo')\n"
     ]
    },
    {
     "data": {
      "text/plain": [
       "Term('HP:0001249', name='obsolete Mental retardation, in some')"
      ]
     },
     "execution_count": 1,
     "metadata": {},
     "output_type": "execute_result"
    }
   ],
   "source": [
    "# 'hp.obo' ：読み込みライブラリあり\n",
    "\n",
    "import pronto\n",
    "ont = pronto.Ontology('https://raw.githubusercontent.com/obophenotype/human-phenotype-ontology/master/hp.obo')\n",
    "\n",
    "ont['HP:0001249']\n"
   ]
  },
  {
   "cell_type": "code",
   "execution_count": null,
   "metadata": {},
   "outputs": [],
   "source": []
  },
  {
   "cell_type": "markdown",
   "metadata": {},
   "source": [
    "phenotype.hpoa"
   ]
  },
  {
   "cell_type": "code",
   "execution_count": 2,
   "metadata": {},
   "outputs": [
    {
     "data": {
      "text/html": [
       "<div>\n",
       "<style scoped>\n",
       "    .dataframe tbody tr th:only-of-type {\n",
       "        vertical-align: middle;\n",
       "    }\n",
       "\n",
       "    .dataframe tbody tr th {\n",
       "        vertical-align: top;\n",
       "    }\n",
       "\n",
       "    .dataframe thead th {\n",
       "        text-align: right;\n",
       "    }\n",
       "</style>\n",
       "<table border=\"1\" class=\"dataframe\">\n",
       "  <thead>\n",
       "    <tr style=\"text-align: right;\">\n",
       "      <th></th>\n",
       "      <th>#DatabaseID</th>\n",
       "      <th>DiseaseName</th>\n",
       "      <th>Qualifier</th>\n",
       "      <th>HPO_ID</th>\n",
       "      <th>Reference</th>\n",
       "      <th>Evidence</th>\n",
       "      <th>Onset</th>\n",
       "      <th>Frequency</th>\n",
       "      <th>Sex</th>\n",
       "      <th>Modifier</th>\n",
       "      <th>Aspect</th>\n",
       "      <th>Biocuration</th>\n",
       "    </tr>\n",
       "  </thead>\n",
       "  <tbody>\n",
       "    <tr>\n",
       "      <th>0</th>\n",
       "      <td>OMIM:618850</td>\n",
       "      <td>Hypervalinemia or hyperleucine-isoleucinemia</td>\n",
       "      <td>NaN</td>\n",
       "      <td>HP:0010913</td>\n",
       "      <td>PMID:25653144</td>\n",
       "      <td>PCS</td>\n",
       "      <td>NaN</td>\n",
       "      <td>1/1</td>\n",
       "      <td>NaN</td>\n",
       "      <td>NaN</td>\n",
       "      <td>P</td>\n",
       "      <td>HPO:probinson[2020-07-23];HPO:probinson[2020-0...</td>\n",
       "    </tr>\n",
       "    <tr>\n",
       "      <th>1</th>\n",
       "      <td>OMIM:618850</td>\n",
       "      <td>Hypervalinemia or hyperleucine-isoleucinemia</td>\n",
       "      <td>NaN</td>\n",
       "      <td>HP:0000007</td>\n",
       "      <td>PMID:25653144</td>\n",
       "      <td>PCS</td>\n",
       "      <td>NaN</td>\n",
       "      <td>NaN</td>\n",
       "      <td>NaN</td>\n",
       "      <td>NaN</td>\n",
       "      <td>I</td>\n",
       "      <td>HPO:probinson[2020-07-23];HPO:probinson[2020-0...</td>\n",
       "    </tr>\n",
       "    <tr>\n",
       "      <th>2</th>\n",
       "      <td>OMIM:618850</td>\n",
       "      <td>Hypervalinemia or hyperleucine-isoleucinemia</td>\n",
       "      <td>NaN</td>\n",
       "      <td>HP:0002922</td>\n",
       "      <td>PMID:25653144</td>\n",
       "      <td>PCS</td>\n",
       "      <td>NaN</td>\n",
       "      <td>1/1</td>\n",
       "      <td>NaN</td>\n",
       "      <td>NaN</td>\n",
       "      <td>P</td>\n",
       "      <td>HPO:probinson[2020-07-23];HPO:probinson[2020-0...</td>\n",
       "    </tr>\n",
       "  </tbody>\n",
       "</table>\n",
       "</div>"
      ],
      "text/plain": [
       "   #DatabaseID                                   DiseaseName Qualifier  \\\n",
       "0  OMIM:618850  Hypervalinemia or hyperleucine-isoleucinemia       NaN   \n",
       "1  OMIM:618850  Hypervalinemia or hyperleucine-isoleucinemia       NaN   \n",
       "2  OMIM:618850  Hypervalinemia or hyperleucine-isoleucinemia       NaN   \n",
       "\n",
       "       HPO_ID      Reference Evidence Onset Frequency  Sex Modifier Aspect  \\\n",
       "0  HP:0010913  PMID:25653144      PCS   NaN       1/1  NaN      NaN      P   \n",
       "1  HP:0000007  PMID:25653144      PCS   NaN       NaN  NaN      NaN      I   \n",
       "2  HP:0002922  PMID:25653144      PCS   NaN       1/1  NaN      NaN      P   \n",
       "\n",
       "                                         Biocuration  \n",
       "0  HPO:probinson[2020-07-23];HPO:probinson[2020-0...  \n",
       "1  HPO:probinson[2020-07-23];HPO:probinson[2020-0...  \n",
       "2  HPO:probinson[2020-07-23];HPO:probinson[2020-0...  "
      ]
     },
     "execution_count": 2,
     "metadata": {},
     "output_type": "execute_result"
    }
   ],
   "source": [
    "# 'phenotype.hpoa'：読み込みライブラリがないためファイルのダウンロードが必要\n",
    "\n",
    "import urllib.request\n",
    "import pandas as pd\n",
    "\n",
    "# URL、保存するファイルのパス（同じディレクトリ）を指定\n",
    "url = \"http://compbio.charite.de/jenkins/job/hpo.annotations.current/lastSuccessfulBuild/artifact/current/phenotype.hpoa\"\n",
    "save_name = \"phenotype.hpoa\"\n",
    "\n",
    "# ダウンロードを実行\n",
    "urllib.request.urlretrieve(url, save_name)\n",
    "phenotype_df = pd.read_csv(\"phenotype.hpoa\", header=4, sep=\"\\t\", engine=\"python\")\n",
    "\n",
    "phenotype_df.head(3)\n"
   ]
  },
  {
   "cell_type": "code",
   "execution_count": null,
   "metadata": {},
   "outputs": [],
   "source": []
  },
  {
   "cell_type": "code",
   "execution_count": null,
   "metadata": {
    "scrolled": true
   },
   "outputs": [],
   "source": [
    "!git"
   ]
  },
  {
   "cell_type": "code",
   "execution_count": 3,
   "metadata": {},
   "outputs": [
    {
     "name": "stderr",
     "output_type": "stream",
     "text": [
      "warning: LF will be replaced by CRLF in read_hp_obo_phenotype_hpoa.ipynb.\n",
      "The file will have its original line endings in your working directory\n",
      "warning: LF will be replaced by CRLF in .ipynb_checkpoints/read_hp_obo_phenotype_hpoa-checkpoint.ipynb.\n",
      "The file will have its original line endings in your working directory\n",
      "warning: LF will be replaced by CRLF in phenotype.hpoa.\n",
      "The file will have its original line endings in your working directory\n"
     ]
    }
   ],
   "source": [
    "!git add ."
   ]
  },
  {
   "cell_type": "code",
   "execution_count": 4,
   "metadata": {},
   "outputs": [
    {
     "name": "stderr",
     "output_type": "stream",
     "text": [
      "Aborting commit due to empty commit message.\n"
     ]
    }
   ],
   "source": [
    "!git commit"
   ]
  },
  {
   "cell_type": "code",
   "execution_count": 5,
   "metadata": {},
   "outputs": [
    {
     "name": "stdout",
     "output_type": "stream",
     "text": [
      "[main 632aa69] recommit\n",
      " 5 files changed, 214467 insertions(+), 6607 deletions(-)\n",
      " delete mode 100644 .ipynb_checkpoints/hp.obo_phenotype.hpoa_ver1_id_name(Graphviz)-Copy1-checkpoint.ipynb\n",
      " create mode 100644 .ipynb_checkpoints/read_hp_obo_phenotype_hpoa-checkpoint.ipynb\n",
      " delete mode 100644 hp.obo_phenotype.hpoa_ver1_id_name(Graphviz)-Copy1.ipynb\n",
      " create mode 100644 phenotype.hpoa\n",
      " rewrite read_hp_obo_phenotype_hpoa.ipynb (72%)\n"
     ]
    }
   ],
   "source": [
    "!git commit -m \"recommit\" -v"
   ]
  },
  {
   "cell_type": "code",
   "execution_count": 6,
   "metadata": {},
   "outputs": [
    {
     "name": "stderr",
     "output_type": "stream",
     "text": [
      "To https://github.com/sayako-osakabe-20210120/Ontology.git\n",
      "   14f5d6a..632aa69  main -> main\n"
     ]
    }
   ],
   "source": [
    "!git push"
   ]
  },
  {
   "cell_type": "code",
   "execution_count": null,
   "metadata": {},
   "outputs": [],
   "source": []
  }
 ],
 "metadata": {
  "kernelspec": {
   "display_name": "Python 3",
   "language": "python",
   "name": "python3"
  },
  "language_info": {
   "codemirror_mode": {
    "name": "ipython",
    "version": 3
   },
   "file_extension": ".py",
   "mimetype": "text/x-python",
   "name": "python",
   "nbconvert_exporter": "python",
   "pygments_lexer": "ipython3",
   "version": "3.8.5"
  }
 },
 "nbformat": 4,
 "nbformat_minor": 4
}
