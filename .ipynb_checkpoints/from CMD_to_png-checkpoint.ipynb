{
 "cells": [
  {
   "cell_type": "markdown",
   "metadata": {},
   "source": [
    "手順\n",
    "\n",
    "1. コマンドプロンプトを開く\n",
    "2. hpo2png.py(当.ipynbファイルの.py版）が保存されているディレクトリに移動\n",
    "3. 「python hpo2png.py HP:0001250」と入力"
   ]
  },
  {
   "cell_type": "markdown",
   "metadata": {},
   "source": [
    "バージョン\n",
    "\n",
    "コマンドプロンプトで≪≫内を入力→Enterで確認\n",
    "\n",
    "≪python --version≫\\\n",
    "python 3.8.5\n",
    "\n",
    "≪pip list≫\\\n",
    "pip                                20.2.4\\\n",
    "pronto                             2.3.1\\\n",
    "pandas                             1.1.3\\\n",
    "numpy                              1.19.2\\\n",
    "matplotlib                         3.3.2\\\n",
    "networkx                           2.5\\\n",
    "graphviz                           0.15\\\n",
    "ipykernel                          5.3.4\\\n",
    "ipython                            7.19.0\\\n",
    "ipython-genutils                   0.2.0\\\n",
    "ipywidgets                         7.5.1"
   ]
  },
  {
   "cell_type": "code",
   "execution_count": 1,
   "metadata": {},
   "outputs": [],
   "source": [
    "# コマンドライン引数\n",
    "import sys\n",
    "args = sys.argv\n",
    "target_HP = args[1]\n",
    "#target_HP = \"HP:0001249\", \"HP:0001250\""
   ]
  },
  {
   "cell_type": "code",
   "execution_count": 2,
   "metadata": {},
   "outputs": [],
   "source": [
    "import pronto\n",
    "import copy\n",
    "import pandas as pd\n",
    "import numpy as np\n",
    "import matplotlib.pyplot as plt\n",
    "import networkx as nx\n",
    "from networkx.drawing.nx_agraph import graphviz_layout\n",
    "from graphviz import Digraph\n",
    "from IPython.display import Image"
   ]
  },
  {
   "cell_type": "code",
   "execution_count": 3,
   "metadata": {
    "scrolled": true
   },
   "outputs": [
    {
     "name": "stderr",
     "output_type": "stream",
     "text": [
      "<ipython-input-3-11e910691231>:2: UnicodeWarning: unsound encoding, assuming ISO-8859-1 (73% confidence)\n",
      "  ont = pronto.Ontology('https://raw.githubusercontent.com/obophenotype/human-phenotype-ontology/master/hp.obo')\n"
     ]
    }
   ],
   "source": [
    "#ont = pronto.Ontology('hp.obo')\n",
    "ont = pronto.Ontology('https://raw.githubusercontent.com/obophenotype/human-phenotype-ontology/master/hp.obo')"
   ]
  },
  {
   "cell_type": "markdown",
   "metadata": {},
   "source": [
    "superclass"
   ]
  },
  {
   "cell_type": "code",
   "execution_count": 4,
   "metadata": {},
   "outputs": [
    {
     "data": {
      "text/plain": [
       "[Term('HP:0001250', name='Seizure'),\n",
       " Term('HP:0012638', name='Abnormal nervous system physiology'),\n",
       " Term('HP:0000707', name='Abnormality of the nervous system'),\n",
       " Term('HP:0000118', name='Phenotypic abnormality'),\n",
       " Term('HP:0000001', name='All')]"
      ]
     },
     "execution_count": 4,
     "metadata": {},
     "output_type": "execute_result"
    }
   ],
   "source": [
    "# superclassタームを抽出\n",
    "sup_target_HP_list = list(ont[target_HP].superclasses()) # 自分（HP:0001249）を入れる場合は引数不要（デフォルト）\n",
    "sup_target_HP_list"
   ]
  },
  {
   "cell_type": "code",
   "execution_count": 5,
   "metadata": {},
   "outputs": [
    {
     "name": "stdout",
     "output_type": "stream",
     "text": [
      "Max depth:4\n"
     ]
    }
   ],
   "source": [
    "# 抽出したタームを階層ごとに分ける\n",
    "\n",
    "# まず全階層の箱superclass_layer_listと、その中に階層ごとの箱superclass_●layer_listを作っておく\n",
    "\n",
    "\n",
    "superclass_layer_list =[]\n",
    "\n",
    "for i in range(1,10000):\n",
    "    exec(\"superclass_\"+str(i)+\"layer_list\" + \" = list(ont[target_HP].superclasses(distance=\"+str(i)+\"))\")\n",
    "    if list(ont[target_HP].superclasses(distance=i-1)) == list(ont[target_HP].superclasses(distance=i)):\n",
    "        print(\"Max depth:\" + str(i-1))         \n",
    "        break;\n",
    "        \n",
    "    superclass_layer_list.append(\"superclass_\"+str(i)+\"layer_list\")\n",
    "\n",
    "max_len=i"
   ]
  },
  {
   "cell_type": "code",
   "execution_count": 6,
   "metadata": {},
   "outputs": [
    {
     "name": "stdout",
     "output_type": "stream",
     "text": [
      "3\n",
      "2\n",
      "1\n"
     ]
    }
   ],
   "source": [
    "# 1つ前のlayerのものをひいていく その階層のタームだけが残る\n",
    "for i in range(max_len-2,0,-1):\n",
    "    print(i)\n",
    "    exec(\"superclass_\"+str(i+1)+\"layer_list\" \"= set(\"+superclass_layer_list[i]+\") - set(\" + superclass_layer_list[i-1]+ \")\")"
   ]
  },
  {
   "cell_type": "code",
   "execution_count": 7,
   "metadata": {},
   "outputs": [],
   "source": [
    "target_HP_rep=target_HP.replace(':', '')"
   ]
  },
  {
   "cell_type": "code",
   "execution_count": 8,
   "metadata": {},
   "outputs": [],
   "source": [
    "# 階層ごとの箱subclass_●layer_listにタームを振り分ける\n",
    "\n",
    "for i,superclasslist in enumerate(superclass_layer_list):\n",
    "    exec(\"superclass_\"+str(i+1)+\"layer_list_id = eval(superclasslist)\")\n",
    "    exec(\"superclass_\"+str(i+1)+\"layer_list_id = [s.id for s in superclass_\"+ str(i+1) +\"layer_list_id]\")\n",
    "    exec(\"superclass_\"+str(i+1)+\"layer_list_id = [s.replace(':', '') for s in superclass_\" +str(i+1)+\"layer_list_id]\")\n",
    "    exec(\"superclass_\"+str(i+1)+\"layer_list_id = list(reversed(superclass_\"+str(i+1)+\"layer_list_id))\")\n",
    "\n",
    "# enumerate()関数の引数にリストなどのイテラブルオブジェクトを指定する\n",
    "# インデックス番号, 要素の順に取得できる"
   ]
  },
  {
   "cell_type": "code",
   "execution_count": 9,
   "metadata": {},
   "outputs": [],
   "source": [
    "from graphviz import Digraph\n",
    "import networkx as nx\n",
    "\n",
    "G = Digraph(format=\"png\")"
   ]
  },
  {
   "cell_type": "code",
   "execution_count": 10,
   "metadata": {},
   "outputs": [],
   "source": [
    "# 関数の定義 subclassでのノードの設定\n",
    "\n",
    "def connected_judge(HP_1,HP_2,replaced=True):\n",
    "    # HP_1 parentid\n",
    "    # HP_2 parentid\n",
    "    if replaced:\n",
    "        HP_1 = HP_1.replace('HP', 'HP:')\n",
    "        HP_2 = HP_2.replace('HP', 'HP:')\n",
    "    HP_2_list = list(ont[HP_2].superclasses(distance=1))\n",
    "    HP_2_list = [s.id for s in HP_2_list]\n",
    "    return HP_1 in HP_2_list"
   ]
  },
  {
   "cell_type": "code",
   "execution_count": 11,
   "metadata": {},
   "outputs": [],
   "source": [
    "# superclassでのエッジの設定\n",
    "\n",
    "# subclass_1layer_listとそれ以外に分けて処理\n",
    "\n",
    "for superclasslist in superclass_layer_list:\n",
    "    tmplist = eval(superclasslist+\"_id\")\n",
    "    if superclasslist == 'superclass_1layer_list':\n",
    "        for hp_node_ind_1 in range(len(tmplist)-1):\n",
    "            G.edge(tmplist[hp_node_ind_1],target_HP_rep)\n",
    "            before_list = copy.copy(tmplist)\n",
    "            \n",
    "    else:\n",
    "        for hp_id_super_class in tmplist:\n",
    "            for hp_id_sub_class_candidate in before_list:\n",
    "                if connected_judge(hp_id_super_class,hp_id_sub_class_candidate,replaced=True):\n",
    "                    G.edge(hp_id_super_class,hp_id_sub_class_candidate)\n",
    "        before_list = copy.copy(tmplist)     "
   ]
  },
  {
   "cell_type": "code",
   "execution_count": 12,
   "metadata": {},
   "outputs": [],
   "source": [
    "G.node(target_HP_rep, shape=\"ellipse\", style=\"filled\", fillcolor=\"lightblue2\")"
   ]
  },
  {
   "cell_type": "code",
   "execution_count": 13,
   "metadata": {},
   "outputs": [
    {
     "data": {
      "text/plain": [
       "'Digraph.gv.png'"
      ]
     },
     "execution_count": 13,
     "metadata": {},
     "output_type": "execute_result"
    }
   ],
   "source": [
    "G.render()\n",
    "G.view()\n",
    "#!dot -T png Digraph.gv > test.png\n",
    "#Image('test.png')"
   ]
  },
  {
   "cell_type": "code",
   "execution_count": 14,
   "metadata": {
    "scrolled": false
   },
   "outputs": [
    {
     "data": {
      "text/plain": [
       "[Term('HP:0012638', name='Abnormal nervous system physiology'),\n",
       " Term('HP:0000223', name='Abnormality of taste sensation'),\n",
       " Term('HP:0000708', name='Behavioral abnormality'),\n",
       " Term('HP:0001250', name='Seizure'),\n",
       " Term('HP:0001283', name='Bulbar palsy'),\n",
       " Term('HP:0001298', name='Encephalopathy'),\n",
       " Term('HP:0001311', name='Abnormal nervous system electrophysiology'),\n",
       " Term('HP:0002015', name='Dysphagia'),\n",
       " Term('HP:0002200', name='Pseudobulbar signs'),\n",
       " Term('HP:0002315', name='Headache'),\n",
       " Term('HP:0002483', name='Bulbar signs'),\n",
       " Term('HP:0003388', name='Easy fatigability'),\n",
       " Term('HP:0003472', name='Hypocalcemic tetany'),\n",
       " Term('HP:0004408', name='Abnormality of the sense of smell'),\n",
       " Term('HP:0011442', name='Abnormal central motor function'),\n",
       " Term('HP:0011446', name='Abnormality of higher mental function'),\n",
       " Term('HP:0011730', name='Abnormal central sensory function'),\n",
       " Term('HP:0012285', name='Abnormal hypothalamus physiology'),\n",
       " Term('HP:0012535', name='Abnormal synaptic transmission'),\n",
       " Term('HP:0012640', name='Abnormality of intracranial pressure'),\n",
       " Term('HP:0012688', name='Abnormality of pineal physiology'),\n",
       " Term('HP:0012759', name='Neurodevelopmental abnormality'),\n",
       " Term('HP:0031910', name='Abnormal cranial nerve physiology'),\n",
       " Term('HP:0032504', name=\"Lhermitte's sign\"),\n",
       " Term('HP:0100022', name='Abnormality of movement'),\n",
       " Term('HP:0410263', name='Brain imaging abnormality')]"
      ]
     },
     "execution_count": 14,
     "metadata": {},
     "output_type": "execute_result"
    }
   ],
   "source": [
    "# HP:0001249の場合\n",
    "# HP:0012638の中に、HP0012759とHP0011446のchildnodeが２つあることを確認\n",
    "\n",
    "list(ont[\"HP:0012638\"].subclasses(distance=1))"
   ]
  },
  {
   "cell_type": "markdown",
   "metadata": {},
   "source": [
    "subclass"
   ]
  },
  {
   "cell_type": "code",
   "execution_count": 15,
   "metadata": {},
   "outputs": [],
   "source": [
    "# subclassタームを抽出\n",
    "sub_target_HP_list = list(ont[target_HP].subclasses()) "
   ]
  },
  {
   "cell_type": "code",
   "execution_count": 16,
   "metadata": {},
   "outputs": [
    {
     "name": "stdout",
     "output_type": "stream",
     "text": [
      "Max depth:6\n"
     ]
    }
   ],
   "source": [
    "# 抽出したタームを階層ごとに分ける\n",
    "\n",
    "# まず全階層の箱subclass_layer_listと、その中に階層ごとの箱subclass_●layer_listを作っておく\n",
    "\n",
    "subclass_layer_list =[]\n",
    "\n",
    "for i in range(1,10000):\n",
    "    exec(\"subclass_\"+str(i)+\"layer_list\" + \" = list(ont[target_HP].subclasses(distance=\"+str(i)+\"))\")\n",
    "    if list(ont[target_HP].subclasses(distance=i-1)) == list(ont[target_HP].subclasses(distance=i)):\n",
    "        print(\"Max depth:\" + str(i-1))         \n",
    "        break;\n",
    "        \n",
    "    subclass_layer_list.append(\"subclass_\"+str(i)+\"layer_list\")\n",
    "\n",
    "max_len=i"
   ]
  },
  {
   "cell_type": "code",
   "execution_count": 17,
   "metadata": {},
   "outputs": [
    {
     "name": "stdout",
     "output_type": "stream",
     "text": [
      "5\n",
      "4\n",
      "3\n",
      "2\n",
      "1\n"
     ]
    }
   ],
   "source": [
    "# 1つ前のlayerのものをひいていく その階層のタームだけが残る\n",
    "for i in range(max_len-2,0,-1):\n",
    "    print(i)\n",
    "    exec(\"subclass_\"+str(i+1)+\"layer_list\" \"= set(\"+subclass_layer_list[i]+\") - set(\" + subclass_layer_list[i-1]+ \")\")"
   ]
  },
  {
   "cell_type": "code",
   "execution_count": 18,
   "metadata": {},
   "outputs": [],
   "source": [
    "# 階層ごとの箱subclass_●layer_listにタームを振り分ける\n",
    "\n",
    "for i,subclasslist in enumerate(subclass_layer_list):\n",
    "    exec(\"subclass_\"+str(i+1)+\"layer_list_id = eval(subclasslist)\")\n",
    "    exec(\"subclass_\"+str(i+1)+\"layer_list_id = [s.id for s in subclass_\"+ str(i+1) +\"layer_list_id]\")\n",
    "    exec(\"subclass_\"+str(i+1)+\"layer_list_id = [s.replace(':', '') for s in subclass_\" +str(i+1)+\"layer_list_id]\")\n",
    "    exec(\"subclass_\"+str(i+1)+\"layer_list_id = list(reversed(subclass_\"+str(i+1)+\"layer_list_id))\")\n",
    "\n",
    "# enumerate()関数の引数にリストなどのイテラブルオブジェクトを指定する\n",
    "# インデックス番号, 要素の順に取得できる"
   ]
  },
  {
   "cell_type": "code",
   "execution_count": 19,
   "metadata": {},
   "outputs": [
    {
     "data": {
      "text/plain": [
       "[Term('HP:0001250', name='Seizure'),\n",
       " Term('HP:0002069', name='Bilateral tonic-clonic seizure'),\n",
       " Term('HP:0002133', name='Status epilepticus'),\n",
       " Term('HP:0002197', name='Generalized-onset seizure'),\n",
       " Term('HP:0007359', name='obsolete Focal seizures, afebril'),\n",
       " Term('HP:0011145', name='Symptomatic seizures'),\n",
       " Term('HP:0011146', name='Dialeptic seizure'),\n",
       " Term('HP:0020207', name='Reflex seizure'),\n",
       " Term('HP:0020219', name='Motor seizure'),\n",
       " Term('HP:0031951', name='Nocturnal seizures'),\n",
       " Term('HP:0032807', name='Neonatal seizure'),\n",
       " Term('HP:0032892', name='Infection-related seizure'),\n",
       " Term('HP:0033259', name='Non-motor seizure'),\n",
       " Term('HP:0100622', name='Maternal seizure')]"
      ]
     },
     "execution_count": 19,
     "metadata": {},
     "output_type": "execute_result"
    }
   ],
   "source": [
    "subclass_1layer_list"
   ]
  },
  {
   "cell_type": "code",
   "execution_count": 20,
   "metadata": {},
   "outputs": [],
   "source": [
    "# 関数の定義 subclassでのノードの設定\n",
    "\n",
    "def connected_judge(HP_1,HP_2,replaced=True):\n",
    "    # HP_1 parentid\n",
    "    # HP_2 parentid\n",
    "    if replaced:\n",
    "        HP_1 = HP_1.replace('HP', 'HP:')\n",
    "        HP_2 = HP_2.replace('HP', 'HP:')\n",
    "    HP_2_list = list(ont[HP_2].subclasses(distance=1))\n",
    "    HP_2_list = [s.id for s in HP_2_list]\n",
    "    return HP_1 in HP_2_list"
   ]
  },
  {
   "cell_type": "code",
   "execution_count": 21,
   "metadata": {},
   "outputs": [],
   "source": [
    "# subclassでのエッジの設定\n",
    "\n",
    "# subclass_1layer_listとそれ以外に分けて処理\n",
    "\n",
    "for subclasslist in subclass_layer_list:\n",
    "    tmplist = eval(subclasslist+\"_id\")\n",
    "    if subclasslist == 'subclass_1layer_list':\n",
    "        for hp_node_ind_1 in range(len(tmplist)-1):\n",
    "            G.edge(target_HP_rep, tmplist[hp_node_ind_1])\n",
    "            before_list = copy.copy(tmplist)\n",
    "            \n",
    "    else:\n",
    "        for hp_id_sub_class in tmplist:\n",
    "            for hp_id_sub_class_candidate in before_list:\n",
    "                if connected_judge(hp_id_sub_class, hp_id_sub_class_candidate, replaced=True):\n",
    "                    G.edge(hp_id_sub_class_candidate, hp_id_sub_class)\n",
    "        before_list = copy.copy(tmplist)   "
   ]
  },
  {
   "cell_type": "code",
   "execution_count": 22,
   "metadata": {},
   "outputs": [
    {
     "data": {
      "text/plain": [
       "'Digraph.gv.png'"
      ]
     },
     "execution_count": 22,
     "metadata": {},
     "output_type": "execute_result"
    }
   ],
   "source": [
    "G.render()\n",
    "G.view()\n",
    "#!dot -T png Digraph.gv > test.png\n",
    "#Image('test.png')"
   ]
  },
  {
   "cell_type": "code",
   "execution_count": null,
   "metadata": {},
   "outputs": [],
   "source": []
  },
  {
   "cell_type": "code",
   "execution_count": null,
   "metadata": {},
   "outputs": [],
   "source": []
  },
  {
   "cell_type": "code",
   "execution_count": null,
   "metadata": {},
   "outputs": [],
   "source": []
  },
  {
   "cell_type": "code",
   "execution_count": null,
   "metadata": {},
   "outputs": [],
   "source": []
  }
 ],
 "metadata": {
  "kernelspec": {
   "display_name": "Python 3",
   "language": "python",
   "name": "python3"
  },
  "language_info": {
   "codemirror_mode": {
    "name": "ipython",
    "version": 3
   },
   "file_extension": ".py",
   "mimetype": "text/x-python",
   "name": "python",
   "nbconvert_exporter": "python",
   "pygments_lexer": "ipython3",
   "version": "3.8.5"
  }
 },
 "nbformat": 4,
 "nbformat_minor": 4
}
