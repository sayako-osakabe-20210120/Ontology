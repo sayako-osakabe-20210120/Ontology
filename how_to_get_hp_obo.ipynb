{
 "cells": [
  {
   "cell_type": "markdown",
   "metadata": {},
   "source": [
    "hp.obo"
   ]
  },
  {
   "cell_type": "code",
   "execution_count": 1,
   "metadata": {},
   "outputs": [
    {
     "name": "stderr",
     "output_type": "stream",
     "text": [
      "<ipython-input-1-95e9e37b881e>:4: UnicodeWarning: unsound encoding, assuming ISO-8859-1 (73% confidence)\n",
      "  ont = pronto.Ontology('https://raw.githubusercontent.com/obophenotype/human-phenotype-ontology/master/hp.obo')\n"
     ]
    }
   ],
   "source": [
    "# 'hp.obo' ：読み込みライブラリあり\n",
    "\n",
    "import pronto\n",
    "ont = pronto.Ontology('https://raw.githubusercontent.com/obophenotype/human-phenotype-ontology/master/hp.obo')\n"
   ]
  },
  {
   "cell_type": "code",
   "execution_count": 2,
   "metadata": {},
   "outputs": [
    {
     "data": {
      "text/plain": [
       "Term('HP:0001249', name='obsolete Mental retardation, in some')"
      ]
     },
     "execution_count": 2,
     "metadata": {},
     "output_type": "execute_result"
    }
   ],
   "source": [
    "#example\n",
    "ont['HP:0001249']"
   ]
  },
  {
   "cell_type": "code",
   "execution_count": null,
   "metadata": {},
   "outputs": [],
   "source": []
  },
  {
   "cell_type": "code",
   "execution_count": 3,
   "metadata": {},
   "outputs": [
    {
     "name": "stdout",
     "output_type": "stream",
     "text": [
      "usage: git [--version] [--help] [-C <path>] [-c <name>=<value>]\n",
      "           [--exec-path[=<path>]] [--html-path] [--man-path] [--info-path]\n",
      "           [-p | --paginate | -P | --no-pager] [--no-replace-objects] [--bare]\n",
      "           [--git-dir=<path>] [--work-tree=<path>] [--namespace=<name>]\n",
      "           <command> [<args>]\n",
      "\n",
      "These are common Git commands used in various situations:\n",
      "\n",
      "start a working area (see also: git help tutorial)\n",
      "   clone             Clone a repository into a new directory\n",
      "   init              Create an empty Git repository or reinitialize an existing one\n",
      "\n",
      "work on the current change (see also: git help everyday)\n",
      "   add               Add file contents to the index\n",
      "   mv                Move or rename a file, a directory, or a symlink\n",
      "   restore           Restore working tree files\n",
      "   rm                Remove files from the working tree and from the index\n",
      "   sparse-checkout   Initialize and modify the sparse-checkout\n",
      "\n",
      "examine the history and state (see also: git help revisions)\n",
      "   bisect            Use binary search to find the commit that introduced a bug\n",
      "   diff              Show changes between commits, commit and working tree, etc\n",
      "   grep              Print lines matching a pattern\n",
      "   log               Show commit logs\n",
      "   show              Show various types of objects\n",
      "   status            Show the working tree status\n",
      "\n",
      "grow, mark and tweak your common history\n",
      "   branch            List, create, or delete branches\n",
      "   commit            Record changes to the repository\n",
      "   merge             Join two or more development histories together\n",
      "   rebase            Reapply commits on top of another base tip\n",
      "   reset             Reset current HEAD to the specified state\n",
      "   switch            Switch branches\n",
      "   tag               Create, list, delete or verify a tag object signed with GPG\n",
      "\n",
      "collaborate (see also: git help workflows)\n",
      "   fetch             Download objects and refs from another repository\n",
      "   pull              Fetch from and integrate with another repository or a local branch\n",
      "   push              Update remote refs along with associated objects\n",
      "\n",
      "'git help -a' and 'git help -g' list available subcommands and some\n",
      "concept guides. See 'git help <command>' or 'git help <concept>'\n",
      "to read about a specific subcommand or concept.\n",
      "See 'git help git' for an overview of the system.\n"
     ]
    }
   ],
   "source": [
    "!git"
   ]
  },
  {
   "cell_type": "code",
   "execution_count": 4,
   "metadata": {},
   "outputs": [
    {
     "name": "stderr",
     "output_type": "stream",
     "text": [
      "warning: LF will be replaced by CRLF in .ipynb_checkpoints/read_file(hp_obo)-checkpoint.ipynb.\n",
      "The file will have its original line endings in your working directory\n",
      "warning: LF will be replaced by CRLF in phenotype.hpoa.\n",
      "The file will have its original line endings in your working directory\n",
      "warning: LF will be replaced by CRLF in read_file(hp_obo).ipynb.\n",
      "The file will have its original line endings in your working directory\n"
     ]
    }
   ],
   "source": [
    "!git add ."
   ]
  },
  {
   "cell_type": "code",
   "execution_count": 5,
   "metadata": {},
   "outputs": [
    {
     "name": "stderr",
     "output_type": "stream",
     "text": [
      "Aborting commit due to empty commit message.\n"
     ]
    }
   ],
   "source": [
    "!git commit"
   ]
  },
  {
   "cell_type": "code",
   "execution_count": 6,
   "metadata": {},
   "outputs": [
    {
     "name": "stdout",
     "output_type": "stream",
     "text": [
      "[main fcfc4cb] recommit\n",
      " 3 files changed, 151487 insertions(+), 272 deletions(-)\n",
      " rewrite read_file(hp_obo).ipynb (72%)\n"
     ]
    }
   ],
   "source": [
    "!git commit -m \"recommit\" -v"
   ]
  },
  {
   "cell_type": "code",
   "execution_count": 7,
   "metadata": {},
   "outputs": [
    {
     "name": "stderr",
     "output_type": "stream",
     "text": [
      "To https://github.com/sayako-osakabe-20210120/Ontology.git\n",
      "   52df4b7..fcfc4cb  main -> main\n"
     ]
    }
   ],
   "source": [
    "!git push"
   ]
  },
  {
   "cell_type": "code",
   "execution_count": null,
   "metadata": {},
   "outputs": [],
   "source": []
  }
 ],
 "metadata": {
  "kernelspec": {
   "display_name": "Python 3",
   "language": "python",
   "name": "python3"
  },
  "language_info": {
   "codemirror_mode": {
    "name": "ipython",
    "version": 3
   },
   "file_extension": ".py",
   "mimetype": "text/x-python",
   "name": "python",
   "nbconvert_exporter": "python",
   "pygments_lexer": "ipython3",
   "version": "3.8.5"
  }
 },
 "nbformat": 4,
 "nbformat_minor": 4
}
