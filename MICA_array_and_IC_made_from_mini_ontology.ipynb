{
 "cells": [
  {
   "cell_type": "markdown",
   "metadata": {},
   "source": [
    "1. hp.oboからMICA行列を作る\n",
    "2. phenotype.hpoaを祖先タームとも関連づけする\n",
    "3. 2つのタームのレスニック類似度を求める\n",
    "4. 既知の疾患と患者さんの症状の類似度を求める"
   ]
  },
  {
   "cell_type": "markdown",
   "metadata": {},
   "source": [
    "## 1. hp.obo から MICA 行列を作る"
   ]
  },
  {
   "cell_type": "code",
   "execution_count": 1,
   "metadata": {},
   "outputs": [],
   "source": [
    "# ライブラリ読み込み\n",
    "import pandas as pd\n",
    "import numpy as np\n",
    "import matplotlib.pyplot as plt\n",
    "import pronto\n",
    "import copy\n",
    "import networkx as nx\n",
    "from networkx.drawing.nx_agraph import graphviz_layout\n",
    "from graphviz import Digraph\n",
    "from IPython.display import Image"
   ]
  },
  {
   "cell_type": "code",
   "execution_count": 2,
   "metadata": {
    "scrolled": true
   },
   "outputs": [
    {
     "name": "stderr",
     "output_type": "stream",
     "text": [
      "<ipython-input-2-6947daef53ec>:2: UnicodeWarning: unsound encoding, assuming ISO-8859-1 (73% confidence)\n",
      "  ont = pronto.Ontology('mini_hp.obo')\n"
     ]
    }
   ],
   "source": [
    "# 'mini_hp.obo'読み込み\n",
    "ont = pronto.Ontology('mini_hp.obo')\n",
    "\n",
    "# ont = pronto.Ontology('https://raw.githubusercontent.com/obophenotype/human-phenotype-ontology/master/hp.obo')"
   ]
  },
  {
   "cell_type": "code",
   "execution_count": 3,
   "metadata": {},
   "outputs": [
    {
     "data": {
      "text/plain": [
       "5"
      ]
     },
     "execution_count": 3,
     "metadata": {},
     "output_type": "execute_result"
    }
   ],
   "source": [
    "len(ont)"
   ]
  },
  {
   "cell_type": "code",
   "execution_count": 4,
   "metadata": {},
   "outputs": [
    {
     "data": {
      "text/html": [
       "<div>\n",
       "<style scoped>\n",
       "    .dataframe tbody tr th:only-of-type {\n",
       "        vertical-align: middle;\n",
       "    }\n",
       "\n",
       "    .dataframe tbody tr th {\n",
       "        vertical-align: top;\n",
       "    }\n",
       "\n",
       "    .dataframe thead th {\n",
       "        text-align: right;\n",
       "    }\n",
       "</style>\n",
       "<table border=\"1\" class=\"dataframe\">\n",
       "  <thead>\n",
       "    <tr style=\"text-align: right;\">\n",
       "      <th></th>\n",
       "      <th>id_1</th>\n",
       "      <th>id_2</th>\n",
       "    </tr>\n",
       "  </thead>\n",
       "  <tbody>\n",
       "    <tr>\n",
       "      <th>0</th>\n",
       "      <td>HP:0001</td>\n",
       "      <td>HP:0001</td>\n",
       "    </tr>\n",
       "    <tr>\n",
       "      <th>1</th>\n",
       "      <td>HP:0001</td>\n",
       "      <td>HP:0002</td>\n",
       "    </tr>\n",
       "    <tr>\n",
       "      <th>2</th>\n",
       "      <td>HP:0001</td>\n",
       "      <td>HP:0003</td>\n",
       "    </tr>\n",
       "    <tr>\n",
       "      <th>3</th>\n",
       "      <td>HP:0001</td>\n",
       "      <td>HP:0004</td>\n",
       "    </tr>\n",
       "    <tr>\n",
       "      <th>4</th>\n",
       "      <td>HP:0001</td>\n",
       "      <td>HP:0005</td>\n",
       "    </tr>\n",
       "    <tr>\n",
       "      <th>5</th>\n",
       "      <td>HP:0002</td>\n",
       "      <td>HP:0001</td>\n",
       "    </tr>\n",
       "    <tr>\n",
       "      <th>6</th>\n",
       "      <td>HP:0002</td>\n",
       "      <td>HP:0002</td>\n",
       "    </tr>\n",
       "    <tr>\n",
       "      <th>7</th>\n",
       "      <td>HP:0002</td>\n",
       "      <td>HP:0003</td>\n",
       "    </tr>\n",
       "    <tr>\n",
       "      <th>8</th>\n",
       "      <td>HP:0002</td>\n",
       "      <td>HP:0004</td>\n",
       "    </tr>\n",
       "    <tr>\n",
       "      <th>9</th>\n",
       "      <td>HP:0002</td>\n",
       "      <td>HP:0005</td>\n",
       "    </tr>\n",
       "    <tr>\n",
       "      <th>10</th>\n",
       "      <td>HP:0003</td>\n",
       "      <td>HP:0001</td>\n",
       "    </tr>\n",
       "    <tr>\n",
       "      <th>11</th>\n",
       "      <td>HP:0003</td>\n",
       "      <td>HP:0002</td>\n",
       "    </tr>\n",
       "    <tr>\n",
       "      <th>12</th>\n",
       "      <td>HP:0003</td>\n",
       "      <td>HP:0003</td>\n",
       "    </tr>\n",
       "    <tr>\n",
       "      <th>13</th>\n",
       "      <td>HP:0003</td>\n",
       "      <td>HP:0004</td>\n",
       "    </tr>\n",
       "    <tr>\n",
       "      <th>14</th>\n",
       "      <td>HP:0003</td>\n",
       "      <td>HP:0005</td>\n",
       "    </tr>\n",
       "    <tr>\n",
       "      <th>15</th>\n",
       "      <td>HP:0004</td>\n",
       "      <td>HP:0001</td>\n",
       "    </tr>\n",
       "    <tr>\n",
       "      <th>16</th>\n",
       "      <td>HP:0004</td>\n",
       "      <td>HP:0002</td>\n",
       "    </tr>\n",
       "    <tr>\n",
       "      <th>17</th>\n",
       "      <td>HP:0004</td>\n",
       "      <td>HP:0003</td>\n",
       "    </tr>\n",
       "    <tr>\n",
       "      <th>18</th>\n",
       "      <td>HP:0004</td>\n",
       "      <td>HP:0004</td>\n",
       "    </tr>\n",
       "    <tr>\n",
       "      <th>19</th>\n",
       "      <td>HP:0004</td>\n",
       "      <td>HP:0005</td>\n",
       "    </tr>\n",
       "    <tr>\n",
       "      <th>20</th>\n",
       "      <td>HP:0005</td>\n",
       "      <td>HP:0001</td>\n",
       "    </tr>\n",
       "    <tr>\n",
       "      <th>21</th>\n",
       "      <td>HP:0005</td>\n",
       "      <td>HP:0002</td>\n",
       "    </tr>\n",
       "    <tr>\n",
       "      <th>22</th>\n",
       "      <td>HP:0005</td>\n",
       "      <td>HP:0003</td>\n",
       "    </tr>\n",
       "    <tr>\n",
       "      <th>23</th>\n",
       "      <td>HP:0005</td>\n",
       "      <td>HP:0004</td>\n",
       "    </tr>\n",
       "    <tr>\n",
       "      <th>24</th>\n",
       "      <td>HP:0005</td>\n",
       "      <td>HP:0005</td>\n",
       "    </tr>\n",
       "  </tbody>\n",
       "</table>\n",
       "</div>"
      ],
      "text/plain": [
       "       id_1     id_2\n",
       "0   HP:0001  HP:0001\n",
       "1   HP:0001  HP:0002\n",
       "2   HP:0001  HP:0003\n",
       "3   HP:0001  HP:0004\n",
       "4   HP:0001  HP:0005\n",
       "5   HP:0002  HP:0001\n",
       "6   HP:0002  HP:0002\n",
       "7   HP:0002  HP:0003\n",
       "8   HP:0002  HP:0004\n",
       "9   HP:0002  HP:0005\n",
       "10  HP:0003  HP:0001\n",
       "11  HP:0003  HP:0002\n",
       "12  HP:0003  HP:0003\n",
       "13  HP:0003  HP:0004\n",
       "14  HP:0003  HP:0005\n",
       "15  HP:0004  HP:0001\n",
       "16  HP:0004  HP:0002\n",
       "17  HP:0004  HP:0003\n",
       "18  HP:0004  HP:0004\n",
       "19  HP:0004  HP:0005\n",
       "20  HP:0005  HP:0001\n",
       "21  HP:0005  HP:0002\n",
       "22  HP:0005  HP:0003\n",
       "23  HP:0005  HP:0004\n",
       "24  HP:0005  HP:0005"
      ]
     },
     "execution_count": 4,
     "metadata": {},
     "output_type": "execute_result"
    }
   ],
   "source": [
    "# データフレームを使う\n",
    "\n",
    "from itertools import product # 全ての組み合わせ（直積）を求めるライブラリ\n",
    "import pprint # printを見やすい表示にするライブラリ\n",
    "\n",
    "id_list = ['HP:0001','HP:0002','HP:0003','HP:0004','HP:0005']\n",
    "\n",
    "# id_listの全ての要素（5つ)同士を組み合わせてペアにする\n",
    "ont_pair_df = pd.DataFrame(list(product(id_list, id_list)),\n",
    "                      columns=['id_1', 'id_2']) # pd.DataFrame(cartesian())でもできる\n",
    "ont_pair_df # 25個"
   ]
  },
  {
   "cell_type": "code",
   "execution_count": 5,
   "metadata": {},
   "outputs": [],
   "source": [
    "# 列の各要素のスーパークラスタームを抽出して順序付き集合にする。\n",
    "# 順序付き集合の積の1番目が直近の共通祖先idとなる\n",
    "\n",
    "\n",
    "from orderedset import OrderedSet # 順序付き集合用ライブラリ\n",
    "\n",
    "# 以下のリストを作成\n",
    "\n",
    "sup_id_1_lst=[]\n",
    "sup_id_2_lst=[]\n",
    "most_recent_sup_list=[]\n",
    "\n",
    "\n",
    "for id_1, id_2 in zip(ont_pair_df['id_1'], ont_pair_df['id_2']):\n",
    "    \n",
    "    # 列の各要素(id)が持つスーパークラスタームを抽出\n",
    "    sup_id_1_lst_value =  list(ont[id_1].superclasses())\n",
    "    sup_id_2_lst_value =  list(ont[id_2].superclasses())\n",
    "       \n",
    "    # 抽出したタームを順序付き集合にする\n",
    "    orderset_sup_id_1_lst_value = OrderedSet(sup_id_1_lst_value)\n",
    "    orderset_sup_id_2_lst_value = OrderedSet(sup_id_2_lst_value)\n",
    "    \n",
    "    # 順序付き集合の積で、共通の祖先タームを出す\n",
    "    most_recent_sup_value = orderset_sup_id_1_lst_value & orderset_sup_id_2_lst_value\n",
    "    \n",
    "    # リストに追加していく\n",
    "    sup_id_1_lst.append(sup_id_1_lst_value) # 列「id_1」のスーパークラスタームリスト\n",
    "    sup_id_2_lst.append(sup_id_2_lst_value) # 列「id_2」のスーパークラスタームリスト\n",
    "    most_recent_sup_list.append(most_recent_sup_value) # 2つの順序付き集合を合わせた共通の祖先タームリスト\n",
    "    "
   ]
  },
  {
   "cell_type": "code",
   "execution_count": 6,
   "metadata": {},
   "outputs": [],
   "source": [
    "# 直近の共通祖先タームを求める\n",
    "\n",
    "target_id_list=[] \n",
    "\n",
    "for target_id_index, target_id in enumerate(most_recent_sup_list):\n",
    "    \n",
    "    target_id_list.append(target_id[0].id) # 集合の積の一番目=直近の共通祖先id"
   ]
  },
  {
   "cell_type": "code",
   "execution_count": 7,
   "metadata": {
    "scrolled": true
   },
   "outputs": [
    {
     "data": {
      "text/html": [
       "<div>\n",
       "<style scoped>\n",
       "    .dataframe tbody tr th:only-of-type {\n",
       "        vertical-align: middle;\n",
       "    }\n",
       "\n",
       "    .dataframe tbody tr th {\n",
       "        vertical-align: top;\n",
       "    }\n",
       "\n",
       "    .dataframe thead th {\n",
       "        text-align: right;\n",
       "    }\n",
       "</style>\n",
       "<table border=\"1\" class=\"dataframe\">\n",
       "  <thead>\n",
       "    <tr style=\"text-align: right;\">\n",
       "      <th></th>\n",
       "      <th>id_1</th>\n",
       "      <th>id_2</th>\n",
       "      <th>直近の共通の祖先ターム</th>\n",
       "    </tr>\n",
       "  </thead>\n",
       "  <tbody>\n",
       "    <tr>\n",
       "      <th>0</th>\n",
       "      <td>HP:0001</td>\n",
       "      <td>HP:0001</td>\n",
       "      <td>HP:0001</td>\n",
       "    </tr>\n",
       "    <tr>\n",
       "      <th>1</th>\n",
       "      <td>HP:0001</td>\n",
       "      <td>HP:0002</td>\n",
       "      <td>HP:0001</td>\n",
       "    </tr>\n",
       "    <tr>\n",
       "      <th>2</th>\n",
       "      <td>HP:0001</td>\n",
       "      <td>HP:0003</td>\n",
       "      <td>HP:0001</td>\n",
       "    </tr>\n",
       "    <tr>\n",
       "      <th>3</th>\n",
       "      <td>HP:0001</td>\n",
       "      <td>HP:0004</td>\n",
       "      <td>HP:0001</td>\n",
       "    </tr>\n",
       "    <tr>\n",
       "      <th>4</th>\n",
       "      <td>HP:0001</td>\n",
       "      <td>HP:0005</td>\n",
       "      <td>HP:0001</td>\n",
       "    </tr>\n",
       "    <tr>\n",
       "      <th>5</th>\n",
       "      <td>HP:0002</td>\n",
       "      <td>HP:0001</td>\n",
       "      <td>HP:0001</td>\n",
       "    </tr>\n",
       "    <tr>\n",
       "      <th>6</th>\n",
       "      <td>HP:0002</td>\n",
       "      <td>HP:0002</td>\n",
       "      <td>HP:0002</td>\n",
       "    </tr>\n",
       "    <tr>\n",
       "      <th>7</th>\n",
       "      <td>HP:0002</td>\n",
       "      <td>HP:0003</td>\n",
       "      <td>HP:0001</td>\n",
       "    </tr>\n",
       "    <tr>\n",
       "      <th>8</th>\n",
       "      <td>HP:0002</td>\n",
       "      <td>HP:0004</td>\n",
       "      <td>HP:0002</td>\n",
       "    </tr>\n",
       "    <tr>\n",
       "      <th>9</th>\n",
       "      <td>HP:0002</td>\n",
       "      <td>HP:0005</td>\n",
       "      <td>HP:0002</td>\n",
       "    </tr>\n",
       "    <tr>\n",
       "      <th>10</th>\n",
       "      <td>HP:0003</td>\n",
       "      <td>HP:0001</td>\n",
       "      <td>HP:0001</td>\n",
       "    </tr>\n",
       "    <tr>\n",
       "      <th>11</th>\n",
       "      <td>HP:0003</td>\n",
       "      <td>HP:0002</td>\n",
       "      <td>HP:0001</td>\n",
       "    </tr>\n",
       "    <tr>\n",
       "      <th>12</th>\n",
       "      <td>HP:0003</td>\n",
       "      <td>HP:0003</td>\n",
       "      <td>HP:0003</td>\n",
       "    </tr>\n",
       "    <tr>\n",
       "      <th>13</th>\n",
       "      <td>HP:0003</td>\n",
       "      <td>HP:0004</td>\n",
       "      <td>HP:0001</td>\n",
       "    </tr>\n",
       "    <tr>\n",
       "      <th>14</th>\n",
       "      <td>HP:0003</td>\n",
       "      <td>HP:0005</td>\n",
       "      <td>HP:0001</td>\n",
       "    </tr>\n",
       "    <tr>\n",
       "      <th>15</th>\n",
       "      <td>HP:0004</td>\n",
       "      <td>HP:0001</td>\n",
       "      <td>HP:0001</td>\n",
       "    </tr>\n",
       "    <tr>\n",
       "      <th>16</th>\n",
       "      <td>HP:0004</td>\n",
       "      <td>HP:0002</td>\n",
       "      <td>HP:0002</td>\n",
       "    </tr>\n",
       "    <tr>\n",
       "      <th>17</th>\n",
       "      <td>HP:0004</td>\n",
       "      <td>HP:0003</td>\n",
       "      <td>HP:0001</td>\n",
       "    </tr>\n",
       "    <tr>\n",
       "      <th>18</th>\n",
       "      <td>HP:0004</td>\n",
       "      <td>HP:0004</td>\n",
       "      <td>HP:0004</td>\n",
       "    </tr>\n",
       "    <tr>\n",
       "      <th>19</th>\n",
       "      <td>HP:0004</td>\n",
       "      <td>HP:0005</td>\n",
       "      <td>HP:0002</td>\n",
       "    </tr>\n",
       "    <tr>\n",
       "      <th>20</th>\n",
       "      <td>HP:0005</td>\n",
       "      <td>HP:0001</td>\n",
       "      <td>HP:0001</td>\n",
       "    </tr>\n",
       "    <tr>\n",
       "      <th>21</th>\n",
       "      <td>HP:0005</td>\n",
       "      <td>HP:0002</td>\n",
       "      <td>HP:0002</td>\n",
       "    </tr>\n",
       "    <tr>\n",
       "      <th>22</th>\n",
       "      <td>HP:0005</td>\n",
       "      <td>HP:0003</td>\n",
       "      <td>HP:0001</td>\n",
       "    </tr>\n",
       "    <tr>\n",
       "      <th>23</th>\n",
       "      <td>HP:0005</td>\n",
       "      <td>HP:0004</td>\n",
       "      <td>HP:0002</td>\n",
       "    </tr>\n",
       "    <tr>\n",
       "      <th>24</th>\n",
       "      <td>HP:0005</td>\n",
       "      <td>HP:0005</td>\n",
       "      <td>HP:0005</td>\n",
       "    </tr>\n",
       "  </tbody>\n",
       "</table>\n",
       "</div>"
      ],
      "text/plain": [
       "       id_1     id_2 直近の共通の祖先ターム\n",
       "0   HP:0001  HP:0001     HP:0001\n",
       "1   HP:0001  HP:0002     HP:0001\n",
       "2   HP:0001  HP:0003     HP:0001\n",
       "3   HP:0001  HP:0004     HP:0001\n",
       "4   HP:0001  HP:0005     HP:0001\n",
       "5   HP:0002  HP:0001     HP:0001\n",
       "6   HP:0002  HP:0002     HP:0002\n",
       "7   HP:0002  HP:0003     HP:0001\n",
       "8   HP:0002  HP:0004     HP:0002\n",
       "9   HP:0002  HP:0005     HP:0002\n",
       "10  HP:0003  HP:0001     HP:0001\n",
       "11  HP:0003  HP:0002     HP:0001\n",
       "12  HP:0003  HP:0003     HP:0003\n",
       "13  HP:0003  HP:0004     HP:0001\n",
       "14  HP:0003  HP:0005     HP:0001\n",
       "15  HP:0004  HP:0001     HP:0001\n",
       "16  HP:0004  HP:0002     HP:0002\n",
       "17  HP:0004  HP:0003     HP:0001\n",
       "18  HP:0004  HP:0004     HP:0004\n",
       "19  HP:0004  HP:0005     HP:0002\n",
       "20  HP:0005  HP:0001     HP:0001\n",
       "21  HP:0005  HP:0002     HP:0002\n",
       "22  HP:0005  HP:0003     HP:0001\n",
       "23  HP:0005  HP:0004     HP:0002\n",
       "24  HP:0005  HP:0005     HP:0005"
      ]
     },
     "execution_count": 7,
     "metadata": {},
     "output_type": "execute_result"
    }
   ],
   "source": [
    "# データフレームに列「直近の共通祖先ターム」を追加\n",
    "\n",
    "ont_pair_df['直近の共通の祖先ターム'] = pd.DataFrame(target_id_list)\n",
    "ont_pair_df = ont_pair_df[['id_1', 'id_2', '直近の共通の祖先ターム']]\n",
    "ont_pair_df"
   ]
  },
  {
   "cell_type": "code",
   "execution_count": 8,
   "metadata": {
    "scrolled": true
   },
   "outputs": [
    {
     "data": {
      "text/html": [
       "<div>\n",
       "<style scoped>\n",
       "    .dataframe tbody tr th:only-of-type {\n",
       "        vertical-align: middle;\n",
       "    }\n",
       "\n",
       "    .dataframe tbody tr th {\n",
       "        vertical-align: top;\n",
       "    }\n",
       "\n",
       "    .dataframe thead th {\n",
       "        text-align: right;\n",
       "    }\n",
       "</style>\n",
       "<table border=\"1\" class=\"dataframe\">\n",
       "  <thead>\n",
       "    <tr style=\"text-align: right;\">\n",
       "      <th></th>\n",
       "      <th>HP:0001</th>\n",
       "      <th>HP:0002</th>\n",
       "      <th>HP:0003</th>\n",
       "      <th>HP:0004</th>\n",
       "      <th>HP:0005</th>\n",
       "    </tr>\n",
       "  </thead>\n",
       "  <tbody>\n",
       "    <tr>\n",
       "      <th>HP:0001</th>\n",
       "      <td>NaN</td>\n",
       "      <td>NaN</td>\n",
       "      <td>NaN</td>\n",
       "      <td>NaN</td>\n",
       "      <td>NaN</td>\n",
       "    </tr>\n",
       "    <tr>\n",
       "      <th>HP:0002</th>\n",
       "      <td>NaN</td>\n",
       "      <td>NaN</td>\n",
       "      <td>NaN</td>\n",
       "      <td>NaN</td>\n",
       "      <td>NaN</td>\n",
       "    </tr>\n",
       "    <tr>\n",
       "      <th>HP:0003</th>\n",
       "      <td>NaN</td>\n",
       "      <td>NaN</td>\n",
       "      <td>NaN</td>\n",
       "      <td>NaN</td>\n",
       "      <td>NaN</td>\n",
       "    </tr>\n",
       "    <tr>\n",
       "      <th>HP:0004</th>\n",
       "      <td>NaN</td>\n",
       "      <td>NaN</td>\n",
       "      <td>NaN</td>\n",
       "      <td>NaN</td>\n",
       "      <td>NaN</td>\n",
       "    </tr>\n",
       "    <tr>\n",
       "      <th>HP:0005</th>\n",
       "      <td>NaN</td>\n",
       "      <td>NaN</td>\n",
       "      <td>NaN</td>\n",
       "      <td>NaN</td>\n",
       "      <td>NaN</td>\n",
       "    </tr>\n",
       "  </tbody>\n",
       "</table>\n",
       "</div>"
      ],
      "text/plain": [
       "        HP:0001 HP:0002 HP:0003 HP:0004 HP:0005\n",
       "HP:0001     NaN     NaN     NaN     NaN     NaN\n",
       "HP:0002     NaN     NaN     NaN     NaN     NaN\n",
       "HP:0003     NaN     NaN     NaN     NaN     NaN\n",
       "HP:0004     NaN     NaN     NaN     NaN     NaN\n",
       "HP:0005     NaN     NaN     NaN     NaN     NaN"
      ]
     },
     "execution_count": 8,
     "metadata": {},
     "output_type": "execute_result"
    }
   ],
   "source": [
    "# データフレームをユニークな要素を両軸にとった構造に変換する\n",
    "\n",
    "mica_term_ance_comm = pd.DataFrame(index = ont_pair_df[\"id_1\"].unique().tolist(),\n",
    "                                   columns = ont_pair_df[\"id_2\"].unique().tolist() )\n",
    "mica_term_ance_comm"
   ]
  },
  {
   "cell_type": "code",
   "execution_count": 9,
   "metadata": {
    "scrolled": true
   },
   "outputs": [
    {
     "name": "stdout",
     "output_type": "stream",
     "text": [
      "↓index　：id_1\n",
      "→columns：id_2\n"
     ]
    },
    {
     "data": {
      "text/html": [
       "<div>\n",
       "<style scoped>\n",
       "    .dataframe tbody tr th:only-of-type {\n",
       "        vertical-align: middle;\n",
       "    }\n",
       "\n",
       "    .dataframe tbody tr th {\n",
       "        vertical-align: top;\n",
       "    }\n",
       "\n",
       "    .dataframe thead th {\n",
       "        text-align: right;\n",
       "    }\n",
       "</style>\n",
       "<table border=\"1\" class=\"dataframe\">\n",
       "  <thead>\n",
       "    <tr style=\"text-align: right;\">\n",
       "      <th></th>\n",
       "      <th>HP:0001</th>\n",
       "      <th>HP:0002</th>\n",
       "      <th>HP:0003</th>\n",
       "      <th>HP:0004</th>\n",
       "      <th>HP:0005</th>\n",
       "    </tr>\n",
       "  </thead>\n",
       "  <tbody>\n",
       "    <tr>\n",
       "      <th>HP:0001</th>\n",
       "      <td>HP:0001</td>\n",
       "      <td>HP:0001</td>\n",
       "      <td>HP:0001</td>\n",
       "      <td>HP:0001</td>\n",
       "      <td>HP:0001</td>\n",
       "    </tr>\n",
       "    <tr>\n",
       "      <th>HP:0002</th>\n",
       "      <td>HP:0001</td>\n",
       "      <td>HP:0002</td>\n",
       "      <td>HP:0001</td>\n",
       "      <td>HP:0002</td>\n",
       "      <td>HP:0002</td>\n",
       "    </tr>\n",
       "    <tr>\n",
       "      <th>HP:0003</th>\n",
       "      <td>HP:0001</td>\n",
       "      <td>HP:0001</td>\n",
       "      <td>HP:0003</td>\n",
       "      <td>HP:0001</td>\n",
       "      <td>HP:0001</td>\n",
       "    </tr>\n",
       "    <tr>\n",
       "      <th>HP:0004</th>\n",
       "      <td>HP:0001</td>\n",
       "      <td>HP:0002</td>\n",
       "      <td>HP:0001</td>\n",
       "      <td>HP:0004</td>\n",
       "      <td>HP:0002</td>\n",
       "    </tr>\n",
       "    <tr>\n",
       "      <th>HP:0005</th>\n",
       "      <td>HP:0001</td>\n",
       "      <td>HP:0002</td>\n",
       "      <td>HP:0001</td>\n",
       "      <td>HP:0002</td>\n",
       "      <td>HP:0005</td>\n",
       "    </tr>\n",
       "  </tbody>\n",
       "</table>\n",
       "</div>"
      ],
      "text/plain": [
       "         HP:0001  HP:0002  HP:0003  HP:0004  HP:0005\n",
       "HP:0001  HP:0001  HP:0001  HP:0001  HP:0001  HP:0001\n",
       "HP:0002  HP:0001  HP:0002  HP:0001  HP:0002  HP:0002\n",
       "HP:0003  HP:0001  HP:0001  HP:0003  HP:0001  HP:0001\n",
       "HP:0004  HP:0001  HP:0002  HP:0001  HP:0004  HP:0002\n",
       "HP:0005  HP:0001  HP:0002  HP:0001  HP:0002  HP:0005"
      ]
     },
     "execution_count": 9,
     "metadata": {},
     "output_type": "execute_result"
    }
   ],
   "source": [
    "#  ont_pair_dfから「直近の共通の祖先ターム」データを持ってくる\n",
    "# index 組み合わせ_sup_id_HP_1\n",
    "# columns 組み合わせ_sup_id_HP_2\n",
    "\n",
    "for columns_hp_term in ont_pair_df[\"id_2\"].unique().tolist():\n",
    "    for index_hp_term in ont_pair_df[\"id_1\"].unique().tolist():\n",
    "        \n",
    "        #  列「組み合わせ_sup_id_HP_1」がcolumns_hp_termで、かつ\n",
    "        #  列「組み合わせ_sup_id_HP_2」index_hp_termである時の\n",
    "        #　[\"直近の共通の祖先ターム\"]の値を取り出して\n",
    "        #  データフレームにする（インデックス＝index_hp_term、列＝columns_hp_term）      \n",
    "        mica_term_ance_comm.loc[index_hp_term, columns_hp_term] = ont_pair_df[(ont_pair_df[\"id_2\"] == columns_hp_term) & (ont_pair_df[\"id_1\"] == index_hp_term)][\"直近の共通の祖先ターム\"].values[0]\n",
    "\n",
    "\n",
    "print('↓index　：id_1')\n",
    "print('→columns：id_2') \n",
    "\n",
    "mica_term_ance_comm\n",
    "\n",
    "# 別法で確認できる(ピボットしか思いつかず。groupby)\n",
    "# ont_pair_df.pivot(index='id_1', columns='id_2', values='直近の共通の祖先ターム')"
   ]
  },
  {
   "cell_type": "code",
   "execution_count": 10,
   "metadata": {},
   "outputs": [],
   "source": [
    "# # Jupyter での画像挿入\n",
    "# <img src=\"MICA_array_and_IC_made_from_mini_ontology_1.bmp\">"
   ]
  },
  {
   "cell_type": "code",
   "execution_count": 11,
   "metadata": {},
   "outputs": [],
   "source": [
    "#[This link](https://github.com/sayako-osakabe-20210120/Ontology/blob/main/MICA_array_and_IC_made_from_mini_ontology_1.bmp)"
   ]
  },
  {
   "cell_type": "markdown",
   "metadata": {},
   "source": [
    "![This link](MICA_array_and_IC_made_from_mini_ontology_1.bmp)"
   ]
  },
  {
   "cell_type": "markdown",
   "metadata": {},
   "source": [
    "![This link](MICA_array_and_IC_made_from_mini_ontology_2.bmp)"
   ]
  },
  {
   "cell_type": "markdown",
   "metadata": {},
   "source": [
    "![This link](MICA_array_and_IC_made_from_mini_ontology_3.bmp)"
   ]
  },
  {
   "cell_type": "markdown",
   "metadata": {},
   "source": [
    "![This link](MICA_array_and_IC_made_from_mini_ontology_4.bmp)"
   ]
  },
  {
   "cell_type": "code",
   "execution_count": null,
   "metadata": {},
   "outputs": [],
   "source": []
  },
  {
   "cell_type": "code",
   "execution_count": null,
   "metadata": {},
   "outputs": [],
   "source": []
  },
  {
   "cell_type": "markdown",
   "metadata": {},
   "source": [
    "## 2. phenotype.hpoaを祖先タームとも関連づけする"
   ]
  },
  {
   "cell_type": "code",
   "execution_count": 12,
   "metadata": {},
   "outputs": [],
   "source": [
    "# 'mini_phenotype.hpoa'読み込み\n",
    "mini_phenotype_df = pd.read_csv(\"mini_phenotype.hpoa\", header=4, sep=\"\\t\", engine=\"python\")\n",
    "\n",
    "# 列名#DatabaseIDの#をとる\n",
    "mini_phenotype_df = mini_phenotype_df.rename(columns={'#DatabaseID': \"DatabaseID\"})\n",
    "\n",
    "#DatabaseID が OMIM を含むものに絞り、使う列だけ残す\n",
    "mini_phenotype_df = mini_phenotype_df[mini_phenotype_df[\"DatabaseID\"].str.contains(\"OMIM\")]\n",
    "mini_phenotype_df = mini_phenotype_df[['DatabaseID','DiseaseName','HPO_ID']]"
   ]
  },
  {
   "cell_type": "code",
   "execution_count": 13,
   "metadata": {
    "scrolled": true
   },
   "outputs": [
    {
     "data": {
      "text/html": [
       "<div>\n",
       "<style scoped>\n",
       "    .dataframe tbody tr th:only-of-type {\n",
       "        vertical-align: middle;\n",
       "    }\n",
       "\n",
       "    .dataframe tbody tr th {\n",
       "        vertical-align: top;\n",
       "    }\n",
       "\n",
       "    .dataframe thead th {\n",
       "        text-align: right;\n",
       "    }\n",
       "</style>\n",
       "<table border=\"1\" class=\"dataframe\">\n",
       "  <thead>\n",
       "    <tr style=\"text-align: right;\">\n",
       "      <th></th>\n",
       "      <th>HP:0001</th>\n",
       "      <th>HP:0002</th>\n",
       "      <th>HP:0003</th>\n",
       "      <th>HP:0004</th>\n",
       "      <th>HP:0005</th>\n",
       "    </tr>\n",
       "  </thead>\n",
       "  <tbody>\n",
       "    <tr>\n",
       "      <th>Daitou shou</th>\n",
       "      <td>NaN</td>\n",
       "      <td>NaN</td>\n",
       "      <td>NaN</td>\n",
       "      <td>NaN</td>\n",
       "      <td>NaN</td>\n",
       "    </tr>\n",
       "    <tr>\n",
       "      <th>Shoutou shou</th>\n",
       "      <td>NaN</td>\n",
       "      <td>NaN</td>\n",
       "      <td>NaN</td>\n",
       "      <td>NaN</td>\n",
       "      <td>NaN</td>\n",
       "    </tr>\n",
       "    <tr>\n",
       "      <th>Chiteki shougai</th>\n",
       "      <td>NaN</td>\n",
       "      <td>NaN</td>\n",
       "      <td>NaN</td>\n",
       "      <td>NaN</td>\n",
       "      <td>NaN</td>\n",
       "    </tr>\n",
       "  </tbody>\n",
       "</table>\n",
       "</div>"
      ],
      "text/plain": [
       "                HP:0001 HP:0002 HP:0003 HP:0004 HP:0005\n",
       "Daitou shou         NaN     NaN     NaN     NaN     NaN\n",
       "Shoutou shou        NaN     NaN     NaN     NaN     NaN\n",
       "Chiteki shougai     NaN     NaN     NaN     NaN     NaN"
      ]
     },
     "execution_count": 13,
     "metadata": {},
     "output_type": "execute_result"
    }
   ],
   "source": [
    "# 計算用のデータフレームを作っておく\n",
    "\n",
    "sample_phenotype_df = pd.DataFrame(index=mini_phenotype_df[\"DiseaseName\"].unique().tolist(), columns=id_list)\n",
    "sample_phenotype_df\n",
    "#df.fillna(0, inplace=True)"
   ]
  },
  {
   "cell_type": "code",
   "execution_count": 14,
   "metadata": {},
   "outputs": [],
   "source": [
    "# mini_phenotype_dfから「病名,hp_id」のペアリストを作る\n",
    "pair_from_phenotype_list = []\n",
    "\n",
    "for name_from_phenotype, id_from_phenotype in zip(mini_phenotype_df[\"DiseaseName\"], mini_phenotype_df[\"HPO_ID\"]):\n",
    "    pair_from_phenotype_list.append([name_from_phenotype, id_from_phenotype])\n",
    "#    name_from_phenotype_list.append(name_from_phenotype)\n",
    "#    id_from_phenotype_list.append(id_from_phenotype)"
   ]
  },
  {
   "cell_type": "code",
   "execution_count": 15,
   "metadata": {},
   "outputs": [],
   "source": [
    "# mini_phenotypeで病名に紐づけられているIDのスーパークラスタームをontから取り出す\n",
    "\n",
    "sup_of_name_from_phenotype =[]\n",
    "\n",
    "for i in range(len(pair_from_phenotype_list)):\n",
    "    \n",
    "    # 動的に変数を作成、execでpython文の実行\n",
    "    exec(\"sup_of_name_\" + str(i) + \"_from_phenotype = list(ont[pair_from_phenotype_list[\" +str(i)+ \"][1]].superclasses())\")\n",
    "    sup_of_name_from_phenotype.append(\"sup_of_name_\" + str(i) + \"_from_phenotype\")\n"
   ]
  },
  {
   "cell_type": "code",
   "execution_count": 16,
   "metadata": {},
   "outputs": [
    {
     "data": {
      "text/plain": [
       "['sup_of_name_0_from_phenotype',\n",
       " 'sup_of_name_1_from_phenotype',\n",
       " 'sup_of_name_2_from_phenotype',\n",
       " 'sup_of_name_3_from_phenotype']"
      ]
     },
     "execution_count": 16,
     "metadata": {},
     "output_type": "execute_result"
    }
   ],
   "source": [
    "sup_of_name_from_phenotype"
   ]
  },
  {
   "cell_type": "code",
   "execution_count": 17,
   "metadata": {},
   "outputs": [],
   "source": [
    "for element_hpo_tmp,sup_name_phenotype in zip(pair_from_phenotype_list,sup_of_name_from_phenotype):\n",
    "    for element_sup_term in eval(sup_name_phenotype):\n",
    "        sample_phenotype_df.loc[element_hpo_tmp[0]][element_sup_term.id]=1"
   ]
  },
  {
   "cell_type": "code",
   "execution_count": 18,
   "metadata": {},
   "outputs": [
    {
     "data": {
      "text/html": [
       "<div>\n",
       "<style scoped>\n",
       "    .dataframe tbody tr th:only-of-type {\n",
       "        vertical-align: middle;\n",
       "    }\n",
       "\n",
       "    .dataframe tbody tr th {\n",
       "        vertical-align: top;\n",
       "    }\n",
       "\n",
       "    .dataframe thead th {\n",
       "        text-align: right;\n",
       "    }\n",
       "</style>\n",
       "<table border=\"1\" class=\"dataframe\">\n",
       "  <thead>\n",
       "    <tr style=\"text-align: right;\">\n",
       "      <th></th>\n",
       "      <th>HP:0001</th>\n",
       "      <th>HP:0002</th>\n",
       "      <th>HP:0003</th>\n",
       "      <th>HP:0004</th>\n",
       "      <th>HP:0005</th>\n",
       "    </tr>\n",
       "  </thead>\n",
       "  <tbody>\n",
       "    <tr>\n",
       "      <th>Daitou shou</th>\n",
       "      <td>1</td>\n",
       "      <td>1</td>\n",
       "      <td>NaN</td>\n",
       "      <td>1</td>\n",
       "      <td>NaN</td>\n",
       "    </tr>\n",
       "    <tr>\n",
       "      <th>Shoutou shou</th>\n",
       "      <td>1</td>\n",
       "      <td>1</td>\n",
       "      <td>1</td>\n",
       "      <td>NaN</td>\n",
       "      <td>1</td>\n",
       "    </tr>\n",
       "    <tr>\n",
       "      <th>Chiteki shougai</th>\n",
       "      <td>1</td>\n",
       "      <td>NaN</td>\n",
       "      <td>1</td>\n",
       "      <td>NaN</td>\n",
       "      <td>NaN</td>\n",
       "    </tr>\n",
       "  </tbody>\n",
       "</table>\n",
       "</div>"
      ],
      "text/plain": [
       "                HP:0001 HP:0002 HP:0003 HP:0004 HP:0005\n",
       "Daitou shou           1       1     NaN       1     NaN\n",
       "Shoutou shou          1       1       1     NaN       1\n",
       "Chiteki shougai       1     NaN       1     NaN     NaN"
      ]
     },
     "execution_count": 18,
     "metadata": {},
     "output_type": "execute_result"
    }
   ],
   "source": [
    "sample_phenotype_df"
   ]
  },
  {
   "cell_type": "code",
   "execution_count": 19,
   "metadata": {
    "scrolled": true
   },
   "outputs": [
    {
     "data": {
      "text/html": [
       "<div>\n",
       "<style scoped>\n",
       "    .dataframe tbody tr th:only-of-type {\n",
       "        vertical-align: middle;\n",
       "    }\n",
       "\n",
       "    .dataframe tbody tr th {\n",
       "        vertical-align: top;\n",
       "    }\n",
       "\n",
       "    .dataframe thead th {\n",
       "        text-align: right;\n",
       "    }\n",
       "</style>\n",
       "<table border=\"1\" class=\"dataframe\">\n",
       "  <thead>\n",
       "    <tr style=\"text-align: right;\">\n",
       "      <th></th>\n",
       "      <th>HP:0001</th>\n",
       "      <th>HP:0002</th>\n",
       "      <th>HP:0003</th>\n",
       "      <th>HP:0004</th>\n",
       "      <th>HP:0005</th>\n",
       "    </tr>\n",
       "  </thead>\n",
       "  <tbody>\n",
       "    <tr>\n",
       "      <th>Daitou shou</th>\n",
       "      <td>1</td>\n",
       "      <td>1</td>\n",
       "      <td>NaN</td>\n",
       "      <td>1</td>\n",
       "      <td>NaN</td>\n",
       "    </tr>\n",
       "    <tr>\n",
       "      <th>Shoutou shou</th>\n",
       "      <td>1</td>\n",
       "      <td>1</td>\n",
       "      <td>1</td>\n",
       "      <td>NaN</td>\n",
       "      <td>1</td>\n",
       "    </tr>\n",
       "    <tr>\n",
       "      <th>Chiteki shougai</th>\n",
       "      <td>1</td>\n",
       "      <td>NaN</td>\n",
       "      <td>1</td>\n",
       "      <td>NaN</td>\n",
       "      <td>NaN</td>\n",
       "    </tr>\n",
       "    <tr>\n",
       "      <th>IC</th>\n",
       "      <td>-0</td>\n",
       "      <td>0.405465</td>\n",
       "      <td>0.405465</td>\n",
       "      <td>1.09861</td>\n",
       "      <td>1.09861</td>\n",
       "    </tr>\n",
       "  </tbody>\n",
       "</table>\n",
       "</div>"
      ],
      "text/plain": [
       "                HP:0001   HP:0002   HP:0003  HP:0004  HP:0005\n",
       "Daitou shou           1         1       NaN        1      NaN\n",
       "Shoutou shou          1         1         1      NaN        1\n",
       "Chiteki shougai       1       NaN         1      NaN      NaN\n",
       "IC                   -0  0.405465  0.405465  1.09861  1.09861"
      ]
     },
     "execution_count": 19,
     "metadata": {},
     "output_type": "execute_result"
    }
   ],
   "source": [
    "all_unique_name_count = mini_phenotype_df[\"DiseaseName\"].nunique()\n",
    "\n",
    "sample_phenotype_df.loc['IC'] = -np.log(sample_phenotype_df.sum()/all_unique_name_count)\n",
    "# データフレームを使わない場合はimport math⇒ -math.log(  ,math.e)を使う\n",
    "sample_phenotype_df"
   ]
  },
  {
   "cell_type": "code",
   "execution_count": 20,
   "metadata": {},
   "outputs": [],
   "source": [
    "#[This link](https://github.com/sayako-osakabe-20210120/Ontology/blob/main/MICA_array_and_IC_made_from_mini_ontology_2.bmp)"
   ]
  },
  {
   "cell_type": "code",
   "execution_count": 21,
   "metadata": {},
   "outputs": [],
   "source": [
    "#[This link](https://github.com/sayako-osakabe-20210120/Ontology/blob/main/MICA_array_and_IC_made_from_mini_ontology_3.bmp)"
   ]
  },
  {
   "cell_type": "code",
   "execution_count": 22,
   "metadata": {},
   "outputs": [],
   "source": [
    "#[This link](https://github.com/sayako-osakabe-20210120/Ontology/blob/main/MICA_array_and_IC_made_from_mini_ontology_4.bmp)"
   ]
  },
  {
   "cell_type": "code",
   "execution_count": 23,
   "metadata": {},
   "outputs": [],
   "source": [
    "#sample_phenotype_df"
   ]
  },
  {
   "cell_type": "code",
   "execution_count": 24,
   "metadata": {},
   "outputs": [
    {
     "name": "stderr",
     "output_type": "stream",
     "text": [
      "warning: LF will be replaced by CRLF in .ipynb_checkpoints/MICA_array_and_IC_made_from_mini_ontology-checkpoint.ipynb.\n",
      "The file will have its original line endings in your working directory\n",
      "warning: LF will be replaced by CRLF in MICA_array_and_IC_made_from_mini_ontology.ipynb.\n",
      "The file will have its original line endings in your working directory\n"
     ]
    }
   ],
   "source": [
    "!git add ."
   ]
  },
  {
   "cell_type": "code",
   "execution_count": 25,
   "metadata": {},
   "outputs": [
    {
     "name": "stderr",
     "output_type": "stream",
     "text": [
      "Aborting commit due to empty commit message.\n"
     ]
    }
   ],
   "source": [
    "!git commit"
   ]
  },
  {
   "cell_type": "code",
   "execution_count": 26,
   "metadata": {},
   "outputs": [
    {
     "name": "stdout",
     "output_type": "stream",
     "text": [
      "[main a53e678] recommit\n",
      " 2 files changed, 106 insertions(+), 20 deletions(-)\n"
     ]
    }
   ],
   "source": [
    "!git commit -m \"recommit\" -v"
   ]
  },
  {
   "cell_type": "code",
   "execution_count": 27,
   "metadata": {},
   "outputs": [
    {
     "name": "stderr",
     "output_type": "stream",
     "text": [
      "To https://github.com/sayako-osakabe-20210120/Ontology.git\n",
      "   78d1a90..a53e678  main -> main\n"
     ]
    }
   ],
   "source": [
    "!git push"
   ]
  },
  {
   "cell_type": "code",
   "execution_count": null,
   "metadata": {},
   "outputs": [],
   "source": []
  },
  {
   "cell_type": "code",
   "execution_count": null,
   "metadata": {},
   "outputs": [],
   "source": []
  }
 ],
 "metadata": {
  "kernelspec": {
   "display_name": "Python 3",
   "language": "python",
   "name": "python3"
  },
  "language_info": {
   "codemirror_mode": {
    "name": "ipython",
    "version": 3
   },
   "file_extension": ".py",
   "mimetype": "text/x-python",
   "name": "python",
   "nbconvert_exporter": "python",
   "pygments_lexer": "ipython3",
   "version": "3.8.5"
  }
 },
 "nbformat": 4,
 "nbformat_minor": 4
}
